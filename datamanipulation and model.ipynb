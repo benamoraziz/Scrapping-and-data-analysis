{
 "cells": [
  {
   "cell_type": "code",
   "execution_count": 4,
   "metadata": {},
   "outputs": [],
   "source": [
    "import pandas as pd"
   ]
  },
  {
   "cell_type": "code",
   "execution_count": 5,
   "metadata": {},
   "outputs": [],
   "source": [
    "revcsv = pd.read_csv('user_reviews.csv')"
   ]
  },
  {
   "cell_type": "code",
   "execution_count": 24,
   "metadata": {},
   "outputs": [],
   "source": [
    "import re\n",
    "import numpy as np\n",
    "import itertools\n",
    "import matplotlib.pyplot as plt"
   ]
  },
  {
   "cell_type": "code",
   "execution_count": 8,
   "metadata": {},
   "outputs": [],
   "source": [
    "import seaborn as sns"
   ]
  },
  {
   "cell_type": "code",
   "execution_count": 9,
   "metadata": {},
   "outputs": [
    {
     "data": {
      "text/html": [
       "<div>\n",
       "<style scoped>\n",
       "    .dataframe tbody tr th:only-of-type {\n",
       "        vertical-align: middle;\n",
       "    }\n",
       "\n",
       "    .dataframe tbody tr th {\n",
       "        vertical-align: top;\n",
       "    }\n",
       "\n",
       "    .dataframe thead th {\n",
       "        text-align: right;\n",
       "    }\n",
       "</style>\n",
       "<table border=\"1\" class=\"dataframe\">\n",
       "  <thead>\n",
       "    <tr style=\"text-align: right;\">\n",
       "      <th></th>\n",
       "      <th>title</th>\n",
       "      <th>user_review_link</th>\n",
       "      <th>user_review</th>\n",
       "      <th>sentiment</th>\n",
       "    </tr>\n",
       "  </thead>\n",
       "  <tbody>\n",
       "    <tr>\n",
       "      <th>0</th>\n",
       "      <td>Planet Earth II</td>\n",
       "      <td>https://www.imdb.com/review/rw3577042/</td>\n",
       "      <td>As Planet Earth I was released about ten years...</td>\n",
       "      <td>negative</td>\n",
       "    </tr>\n",
       "    <tr>\n",
       "      <th>1</th>\n",
       "      <td>Planet Earth</td>\n",
       "      <td>https://www.imdb.com/review/rw2014827/</td>\n",
       "      <td>I'm just laughing at all these negative commen...</td>\n",
       "      <td>positive</td>\n",
       "    </tr>\n",
       "    <tr>\n",
       "      <th>2</th>\n",
       "      <td>Planet Earth</td>\n",
       "      <td>https://www.imdb.com/review/rw1594404/</td>\n",
       "      <td>I don't think I can add anything to the previo...</td>\n",
       "      <td>negative</td>\n",
       "    </tr>\n",
       "    <tr>\n",
       "      <th>3</th>\n",
       "      <td>Band of Brothers</td>\n",
       "      <td>https://www.imdb.com/review/rw0625888/</td>\n",
       "      <td>\"Band of Brothers\" in a word is awesome. I cou...</td>\n",
       "      <td>positive</td>\n",
       "    </tr>\n",
       "    <tr>\n",
       "      <th>4</th>\n",
       "      <td>Band of Brothers</td>\n",
       "      <td>https://www.imdb.com/review/rw0626113/</td>\n",
       "      <td>I am an 80 year old combat veteran (88th Inf. ...</td>\n",
       "      <td>negative</td>\n",
       "    </tr>\n",
       "  </tbody>\n",
       "</table>\n",
       "</div>"
      ],
      "text/plain": [
       "              title                        user_review_link  \\\n",
       "0   Planet Earth II  https://www.imdb.com/review/rw3577042/   \n",
       "1      Planet Earth  https://www.imdb.com/review/rw2014827/   \n",
       "2      Planet Earth  https://www.imdb.com/review/rw1594404/   \n",
       "3  Band of Brothers  https://www.imdb.com/review/rw0625888/   \n",
       "4  Band of Brothers  https://www.imdb.com/review/rw0626113/   \n",
       "\n",
       "                                         user_review sentiment  \n",
       "0  As Planet Earth I was released about ten years...  negative  \n",
       "1  I'm just laughing at all these negative commen...  positive  \n",
       "2  I don't think I can add anything to the previo...  negative  \n",
       "3  \"Band of Brothers\" in a word is awesome. I cou...  positive  \n",
       "4  I am an 80 year old combat veteran (88th Inf. ...  negative  "
      ]
     },
     "execution_count": 9,
     "metadata": {},
     "output_type": "execute_result"
    }
   ],
   "source": [
    "revcsv.head()"
   ]
  },
  {
   "cell_type": "code",
   "execution_count": 16,
   "metadata": {},
   "outputs": [
    {
     "data": {
      "text/plain": [
       "<matplotlib.axes._subplots.AxesSubplot at 0x230b3f0ff08>"
      ]
     },
     "execution_count": 16,
     "metadata": {},
     "output_type": "execute_result"
    },
    {
     "data": {
      "image/png": "[encoded data removed]",
      "text/plain": [
       "<Figure size 432x288 with 1 Axes>"
      ]
     },
     "metadata": {
      "needs_background": "light"
     },
     "output_type": "display_data"
    }
   ],
   "source": [
    "sns.countplot(x='sentiment', data=revcsv)"
   ]
  },
  {
   "cell_type": "code",
   "execution_count": 10,
   "metadata": {},
   "outputs": [],
   "source": [
    "from nltk.tokenize import RegexpTokenizer"
   ]
  },
  {
   "cell_type": "code",
   "execution_count": 11,
   "metadata": {},
   "outputs": [],
   "source": [
    "tokenizer = RegexpTokenizer('\\w+')"
   ]
  },
  {
   "cell_type": "code",
   "execution_count": 12,
   "metadata": {},
   "outputs": [
    {
     "data": {
      "text/plain": [
       "['I',\n",
       " 'm',\n",
       " 'just',\n",
       " 'laughing',\n",
       " 'at',\n",
       " 'all',\n",
       " 'these',\n",
       " 'negative',\n",
       " 'comments',\n",
       " 'I']"
      ]
     },
     "execution_count": 12,
     "metadata": {},
     "output_type": "execute_result"
    }
   ],
   "source": [
    "tokens = tokenizer.tokenize(revcsv['user_review'][1])\n",
    "tokens[:10]"
   ]
  },
  {
   "cell_type": "code",
   "execution_count": 13,
   "metadata": {},
   "outputs": [],
   "source": [
    "def tok(review):\n",
    "    tokenizer = RegexpTokenizer('\\w+')\n",
    "    tokens = tokenizer.tokenize(review)\n",
    "    return(tokens)"
   ]
  },
  {
   "cell_type": "code",
   "execution_count": 14,
   "metadata": {},
   "outputs": [],
   "source": [
    "revcsv['chuncks'] = revcsv['user_review'].apply(tok)"
   ]
  },
  {
   "cell_type": "code",
   "execution_count": 15,
   "metadata": {},
   "outputs": [
    {
     "data": {
      "text/html": [
       "<div>\n",
       "<style scoped>\n",
       "    .dataframe tbody tr th:only-of-type {\n",
       "        vertical-align: middle;\n",
       "    }\n",
       "\n",
       "    .dataframe tbody tr th {\n",
       "        vertical-align: top;\n",
       "    }\n",
       "\n",
       "    .dataframe thead th {\n",
       "        text-align: right;\n",
       "    }\n",
       "</style>\n",
       "<table border=\"1\" class=\"dataframe\">\n",
       "  <thead>\n",
       "    <tr style=\"text-align: right;\">\n",
       "      <th></th>\n",
       "      <th>title</th>\n",
       "      <th>user_review_link</th>\n",
       "      <th>user_review</th>\n",
       "      <th>sentiment</th>\n",
       "      <th>chuncks</th>\n",
       "    </tr>\n",
       "  </thead>\n",
       "  <tbody>\n",
       "    <tr>\n",
       "      <th>0</th>\n",
       "      <td>Planet Earth II</td>\n",
       "      <td>https://www.imdb.com/review/rw3577042/</td>\n",
       "      <td>As Planet Earth I was released about ten years...</td>\n",
       "      <td>negative</td>\n",
       "      <td>[As, Planet, Earth, I, was, released, about, t...</td>\n",
       "    </tr>\n",
       "    <tr>\n",
       "      <th>1</th>\n",
       "      <td>Planet Earth</td>\n",
       "      <td>https://www.imdb.com/review/rw2014827/</td>\n",
       "      <td>I'm just laughing at all these negative commen...</td>\n",
       "      <td>positive</td>\n",
       "      <td>[I, m, just, laughing, at, all, these, negativ...</td>\n",
       "    </tr>\n",
       "    <tr>\n",
       "      <th>2</th>\n",
       "      <td>Planet Earth</td>\n",
       "      <td>https://www.imdb.com/review/rw1594404/</td>\n",
       "      <td>I don't think I can add anything to the previo...</td>\n",
       "      <td>negative</td>\n",
       "      <td>[I, don, t, think, I, can, add, anything, to, ...</td>\n",
       "    </tr>\n",
       "    <tr>\n",
       "      <th>3</th>\n",
       "      <td>Band of Brothers</td>\n",
       "      <td>https://www.imdb.com/review/rw0625888/</td>\n",
       "      <td>\"Band of Brothers\" in a word is awesome. I cou...</td>\n",
       "      <td>positive</td>\n",
       "      <td>[Band, of, Brothers, in, a, word, is, awesome,...</td>\n",
       "    </tr>\n",
       "    <tr>\n",
       "      <th>4</th>\n",
       "      <td>Band of Brothers</td>\n",
       "      <td>https://www.imdb.com/review/rw0626113/</td>\n",
       "      <td>I am an 80 year old combat veteran (88th Inf. ...</td>\n",
       "      <td>negative</td>\n",
       "      <td>[I, am, an, 80, year, old, combat, veteran, 88...</td>\n",
       "    </tr>\n",
       "  </tbody>\n",
       "</table>\n",
       "</div>"
      ],
      "text/plain": [
       "              title                        user_review_link  \\\n",
       "0   Planet Earth II  https://www.imdb.com/review/rw3577042/   \n",
       "1      Planet Earth  https://www.imdb.com/review/rw2014827/   \n",
       "2      Planet Earth  https://www.imdb.com/review/rw1594404/   \n",
       "3  Band of Brothers  https://www.imdb.com/review/rw0625888/   \n",
       "4  Band of Brothers  https://www.imdb.com/review/rw0626113/   \n",
       "\n",
       "                                         user_review sentiment  \\\n",
       "0  As Planet Earth I was released about ten years...  negative   \n",
       "1  I'm just laughing at all these negative commen...  positive   \n",
       "2  I don't think I can add anything to the previo...  negative   \n",
       "3  \"Band of Brothers\" in a word is awesome. I cou...  positive   \n",
       "4  I am an 80 year old combat veteran (88th Inf. ...  negative   \n",
       "\n",
       "                                             chuncks  \n",
       "0  [As, Planet, Earth, I, was, released, about, t...  \n",
       "1  [I, m, just, laughing, at, all, these, negativ...  \n",
       "2  [I, don, t, think, I, can, add, anything, to, ...  \n",
       "3  [Band, of, Brothers, in, a, word, is, awesome,...  \n",
       "4  [I, am, an, 80, year, old, combat, veteran, 88...  "
      ]
     },
     "execution_count": 15,
     "metadata": {},
     "output_type": "execute_result"
    }
   ],
   "source": [
    "revcsv.head()"
   ]
  },
  {
   "cell_type": "code",
   "execution_count": 16,
   "metadata": {},
   "outputs": [],
   "source": [
    "import nltk\n",
    "from nltk.corpus import stopwords"
   ]
  },
  {
   "cell_type": "code",
   "execution_count": 17,
   "metadata": {},
   "outputs": [
    {
     "data": {
      "text/plain": [
       "['i',\n",
       " 'me',\n",
       " 'my',\n",
       " 'myself',\n",
       " 'we',\n",
       " 'our',\n",
       " 'ours',\n",
       " 'ourselves',\n",
       " 'you',\n",
       " \"you're\",\n",
       " \"you've\",\n",
       " \"you'll\",\n",
       " \"you'd\",\n",
       " 'your',\n",
       " 'yours',\n",
       " 'yourself',\n",
       " 'yourselves',\n",
       " 'he',\n",
       " 'him',\n",
       " 'his',\n",
       " 'himself',\n",
       " 'she',\n",
       " \"she's\",\n",
       " 'her',\n",
       " 'hers',\n",
       " 'herself',\n",
       " 'it',\n",
       " \"it's\",\n",
       " 'its',\n",
       " 'itself',\n",
       " 'they',\n",
       " 'them',\n",
       " 'their',\n",
       " 'theirs',\n",
       " 'themselves',\n",
       " 'what',\n",
       " 'which',\n",
       " 'who',\n",
       " 'whom',\n",
       " 'this',\n",
       " 'that',\n",
       " \"that'll\",\n",
       " 'these',\n",
       " 'those',\n",
       " 'am',\n",
       " 'is',\n",
       " 'are',\n",
       " 'was',\n",
       " 'were',\n",
       " 'be',\n",
       " 'been',\n",
       " 'being',\n",
       " 'have',\n",
       " 'has',\n",
       " 'had',\n",
       " 'having',\n",
       " 'do',\n",
       " 'does',\n",
       " 'did',\n",
       " 'doing',\n",
       " 'a',\n",
       " 'an',\n",
       " 'the',\n",
       " 'and',\n",
       " 'but',\n",
       " 'if',\n",
       " 'or',\n",
       " 'because',\n",
       " 'as',\n",
       " 'until',\n",
       " 'while',\n",
       " 'of',\n",
       " 'at',\n",
       " 'by',\n",
       " 'for',\n",
       " 'with',\n",
       " 'about',\n",
       " 'against',\n",
       " 'between',\n",
       " 'into',\n",
       " 'through',\n",
       " 'during',\n",
       " 'before',\n",
       " 'after',\n",
       " 'above',\n",
       " 'below',\n",
       " 'to',\n",
       " 'from',\n",
       " 'up',\n",
       " 'down',\n",
       " 'in',\n",
       " 'out',\n",
       " 'on',\n",
       " 'off',\n",
       " 'over',\n",
       " 'under',\n",
       " 'again',\n",
       " 'further',\n",
       " 'then',\n",
       " 'once',\n",
       " 'here',\n",
       " 'there',\n",
       " 'when',\n",
       " 'where',\n",
       " 'why',\n",
       " 'how',\n",
       " 'all',\n",
       " 'any',\n",
       " 'both',\n",
       " 'each',\n",
       " 'few',\n",
       " 'more',\n",
       " 'most',\n",
       " 'other',\n",
       " 'some',\n",
       " 'such',\n",
       " 'no',\n",
       " 'nor',\n",
       " 'not',\n",
       " 'only',\n",
       " 'own',\n",
       " 'same',\n",
       " 'so',\n",
       " 'than',\n",
       " 'too',\n",
       " 'very',\n",
       " 's',\n",
       " 't',\n",
       " 'can',\n",
       " 'will',\n",
       " 'just',\n",
       " 'don',\n",
       " \"don't\",\n",
       " 'should',\n",
       " \"should've\",\n",
       " 'now',\n",
       " 'd',\n",
       " 'll',\n",
       " 'm',\n",
       " 'o',\n",
       " 're',\n",
       " 've',\n",
       " 'y',\n",
       " 'ain',\n",
       " 'aren',\n",
       " \"aren't\",\n",
       " 'couldn',\n",
       " \"couldn't\",\n",
       " 'didn',\n",
       " \"didn't\",\n",
       " 'doesn',\n",
       " \"doesn't\",\n",
       " 'hadn',\n",
       " \"hadn't\",\n",
       " 'hasn',\n",
       " \"hasn't\",\n",
       " 'haven',\n",
       " \"haven't\",\n",
       " 'isn',\n",
       " \"isn't\",\n",
       " 'ma',\n",
       " 'mightn',\n",
       " \"mightn't\",\n",
       " 'mustn',\n",
       " \"mustn't\",\n",
       " 'needn',\n",
       " \"needn't\",\n",
       " 'shan',\n",
       " \"shan't\",\n",
       " 'shouldn',\n",
       " \"shouldn't\",\n",
       " 'wasn',\n",
       " \"wasn't\",\n",
       " 'weren',\n",
       " \"weren't\",\n",
       " 'won',\n",
       " \"won't\",\n",
       " 'wouldn',\n",
       " \"wouldn't\"]"
      ]
     },
     "execution_count": 17,
     "metadata": {},
     "output_type": "execute_result"
    }
   ],
   "source": [
    "stopw = nltk.corpus.stopwords.words('english')\n",
    "stopw"
   ]
  },
  {
   "cell_type": "code",
   "execution_count": 59,
   "metadata": {},
   "outputs": [
    {
     "name": "stdout",
     "output_type": "stream",
     "text": [
      "['i', 'me', 'my', 'myself', 'we', 'our', 'ours', 'ourselves', 'you', \"you're\", \"you've\", \"you'll\", \"you'd\", 'your', 'yours', 'yourself', 'yourselves', 'he', 'him', 'his', 'himself', 'she', \"she's\", 'her', 'hers', 'herself', 'it', \"it's\", 'its', 'itself', 'they', 'them', 'their', 'theirs', 'themselves', 'what', 'which', 'who', 'whom', 'this', 'that', \"that'll\", 'these', 'those', 'am', 'is', 'are', 'was', 'were', 'be', 'been', 'being', 'have', 'has', 'had', 'having', 'do', 'does', 'did', 'doing', 'a', 'an', 'the', 'and', 'but', 'if', 'or', 'because', 'as', 'until', 'while', 'of', 'at', 'by', 'for', 'with', 'about', 'against', 'between', 'into', 'through', 'during', 'before', 'after', 'above', 'below', 'to', 'from', 'up', 'down', 'in', 'out', 'on', 'off', 'over', 'under', 'again', 'further', 'then', 'once', 'here', 'there', 'when', 'where', 'why', 'how', 'all', 'any', 'both', 'each', 'few', 'more', 'most', 'other', 'some', 'such', 'no', 'nor', 'not', 'only', 'own', 'same', 'so', 'than', 'too', 'very', 's', 't', 'can', 'will', 'just', 'don', \"don't\", 'should', \"should've\", 'now', 'd', 'll', 'm', 'o', 're', 've', 'y', 'ain', 'aren', \"aren't\", 'couldn', \"couldn't\", 'didn', \"didn't\", 'doesn', \"doesn't\", 'hadn', \"hadn't\", 'hasn', \"hasn't\", 'haven', \"haven't\", 'isn', \"isn't\", 'ma', 'mightn', \"mightn't\", 'mustn', \"mustn't\", 'needn', \"needn't\", 'shan', \"shan't\", 'shouldn', \"shouldn't\", 'wasn', \"wasn't\", 'weren', \"weren't\", 'won', \"won't\", 'wouldn', \"wouldn't\"]\n"
     ]
    }
   ],
   "source": [
    "print(stopwords.words('english'))"
   ]
  },
  {
   "cell_type": "code",
   "execution_count": 18,
   "metadata": {},
   "outputs": [],
   "source": [
    "def rmsw(chunk):\n",
    "    wns = []\n",
    "    for word in chunk:\n",
    "        word = word.lower()\n",
    "        if word not in stopw:\n",
    "            wns.append(word)\n",
    "    return(wns)"
   ]
  },
  {
   "cell_type": "code",
   "execution_count": 19,
   "metadata": {},
   "outputs": [],
   "source": [
    "revcsv['chuncks'] = revcsv['chuncks'].apply(rmsw)"
   ]
  },
  {
   "cell_type": "code",
   "execution_count": 20,
   "metadata": {},
   "outputs": [
    {
     "data": {
      "text/html": [
       "<div>\n",
       "<style scoped>\n",
       "    .dataframe tbody tr th:only-of-type {\n",
       "        vertical-align: middle;\n",
       "    }\n",
       "\n",
       "    .dataframe tbody tr th {\n",
       "        vertical-align: top;\n",
       "    }\n",
       "\n",
       "    .dataframe thead th {\n",
       "        text-align: right;\n",
       "    }\n",
       "</style>\n",
       "<table border=\"1\" class=\"dataframe\">\n",
       "  <thead>\n",
       "    <tr style=\"text-align: right;\">\n",
       "      <th></th>\n",
       "      <th>title</th>\n",
       "      <th>user_review_link</th>\n",
       "      <th>user_review</th>\n",
       "      <th>sentiment</th>\n",
       "      <th>chuncks</th>\n",
       "    </tr>\n",
       "  </thead>\n",
       "  <tbody>\n",
       "    <tr>\n",
       "      <th>0</th>\n",
       "      <td>Planet Earth II</td>\n",
       "      <td>https://www.imdb.com/review/rw3577042/</td>\n",
       "      <td>As Planet Earth I was released about ten years...</td>\n",
       "      <td>negative</td>\n",
       "      <td>[planet, earth, released, ten, years, ago, vis...</td>\n",
       "    </tr>\n",
       "    <tr>\n",
       "      <th>1</th>\n",
       "      <td>Planet Earth</td>\n",
       "      <td>https://www.imdb.com/review/rw2014827/</td>\n",
       "      <td>I'm just laughing at all these negative commen...</td>\n",
       "      <td>positive</td>\n",
       "      <td>[laughing, negative, comments, know, hard, pet...</td>\n",
       "    </tr>\n",
       "    <tr>\n",
       "      <th>2</th>\n",
       "      <td>Planet Earth</td>\n",
       "      <td>https://www.imdb.com/review/rw1594404/</td>\n",
       "      <td>I don't think I can add anything to the previo...</td>\n",
       "      <td>negative</td>\n",
       "      <td>[think, add, anything, previous, 10, 10, comme...</td>\n",
       "    </tr>\n",
       "    <tr>\n",
       "      <th>3</th>\n",
       "      <td>Band of Brothers</td>\n",
       "      <td>https://www.imdb.com/review/rw0625888/</td>\n",
       "      <td>\"Band of Brothers\" in a word is awesome. I cou...</td>\n",
       "      <td>positive</td>\n",
       "      <td>[band, brothers, word, awesome, wait, see, epi...</td>\n",
       "    </tr>\n",
       "    <tr>\n",
       "      <th>4</th>\n",
       "      <td>Band of Brothers</td>\n",
       "      <td>https://www.imdb.com/review/rw0626113/</td>\n",
       "      <td>I am an 80 year old combat veteran (88th Inf. ...</td>\n",
       "      <td>negative</td>\n",
       "      <td>[80, year, old, combat, veteran, 88th, inf, di...</td>\n",
       "    </tr>\n",
       "  </tbody>\n",
       "</table>\n",
       "</div>"
      ],
      "text/plain": [
       "              title                        user_review_link  \\\n",
       "0   Planet Earth II  https://www.imdb.com/review/rw3577042/   \n",
       "1      Planet Earth  https://www.imdb.com/review/rw2014827/   \n",
       "2      Planet Earth  https://www.imdb.com/review/rw1594404/   \n",
       "3  Band of Brothers  https://www.imdb.com/review/rw0625888/   \n",
       "4  Band of Brothers  https://www.imdb.com/review/rw0626113/   \n",
       "\n",
       "                                         user_review sentiment  \\\n",
       "0  As Planet Earth I was released about ten years...  negative   \n",
       "1  I'm just laughing at all these negative commen...  positive   \n",
       "2  I don't think I can add anything to the previo...  negative   \n",
       "3  \"Band of Brothers\" in a word is awesome. I cou...  positive   \n",
       "4  I am an 80 year old combat veteran (88th Inf. ...  negative   \n",
       "\n",
       "                                             chuncks  \n",
       "0  [planet, earth, released, ten, years, ago, vis...  \n",
       "1  [laughing, negative, comments, know, hard, pet...  \n",
       "2  [think, add, anything, previous, 10, 10, comme...  \n",
       "3  [band, brothers, word, awesome, wait, see, epi...  \n",
       "4  [80, year, old, combat, veteran, 88th, inf, di...  "
      ]
     },
     "execution_count": 20,
     "metadata": {},
     "output_type": "execute_result"
    }
   ],
   "source": [
    "revcsv.head()"
   ]
  },
  {
   "cell_type": "code",
   "execution_count": 117,
   "metadata": {},
   "outputs": [
    {
     "name": "stderr",
     "output_type": "stream",
     "text": [
      "[nltk_data] Downloading package wordnet to\n",
      "[nltk_data]     C:\\Users\\hp\\AppData\\Roaming\\nltk_data...\n",
      "[nltk_data]   Unzipping corpora\\wordnet.zip.\n"
     ]
    },
    {
     "data": {
      "text/plain": [
       "True"
      ]
     },
     "execution_count": 117,
     "metadata": {},
     "output_type": "execute_result"
    }
   ],
   "source": [
    "from nltk.stem import WordNetLemmatizer \n",
    "nltk.download('wordnet')"
   ]
  },
  {
   "cell_type": "code",
   "execution_count": 133,
   "metadata": {},
   "outputs": [
    {
     "name": "stdout",
     "output_type": "stream",
     "text": [
      "laugh\n",
      "negative\n",
      "comment\n",
      "know\n",
      "hard\n",
      "peta\n",
      "freak\n",
      "believe\n",
      "circle\n",
      "life\n",
      "precious\n",
      "animals\n",
      "actually\n",
      "kill\n",
      "movie\n",
      "statement\n",
      "show\n",
      "planet\n",
      "earth\n",
      "kind\n",
      "simple\n",
      "think\n",
      "al\n",
      "gore\n",
      "make\n",
      "movie\n",
      "show\n",
      "image\n",
      "planet\n",
      "happen\n",
      "animal\n",
      "world\n",
      "make\n",
      "micheal\n",
      "moore\n",
      "film\n",
      "show\n",
      "beautiful\n",
      "image\n",
      "planet\n",
      "mean\n",
      "goodness\n",
      "watch\n",
      "instead\n",
      "make\n",
      "big\n",
      "deal\n",
      "everything\n",
      "definitely\n",
      "recommend\n",
      "film\n",
      "anyone\n",
      "interest\n",
      "see\n",
      "go\n",
      "nature\n"
     ]
    }
   ],
   "source": [
    "lemmatizer = WordNetLemmatizer()\n",
    "for i in range(len(revcsv['chuncks'][1])):\n",
    "    print(lemmatizer.lemmatize(revcsv['chuncks'][1][i],pos=\"v\"))"
   ]
  },
  {
   "cell_type": "code",
   "execution_count": 21,
   "metadata": {},
   "outputs": [],
   "source": [
    "revcsv['newrev'] = [\" \".join(txt) for txt in revcsv['chuncks'].values]"
   ]
  },
  {
   "cell_type": "code",
   "execution_count": 22,
   "metadata": {},
   "outputs": [
    {
     "data": {
      "text/html": [
       "<div>\n",
       "<style scoped>\n",
       "    .dataframe tbody tr th:only-of-type {\n",
       "        vertical-align: middle;\n",
       "    }\n",
       "\n",
       "    .dataframe tbody tr th {\n",
       "        vertical-align: top;\n",
       "    }\n",
       "\n",
       "    .dataframe thead th {\n",
       "        text-align: right;\n",
       "    }\n",
       "</style>\n",
       "<table border=\"1\" class=\"dataframe\">\n",
       "  <thead>\n",
       "    <tr style=\"text-align: right;\">\n",
       "      <th></th>\n",
       "      <th>title</th>\n",
       "      <th>user_review_link</th>\n",
       "      <th>user_review</th>\n",
       "      <th>sentiment</th>\n",
       "      <th>chuncks</th>\n",
       "      <th>newrev</th>\n",
       "    </tr>\n",
       "  </thead>\n",
       "  <tbody>\n",
       "    <tr>\n",
       "      <th>0</th>\n",
       "      <td>Planet Earth II</td>\n",
       "      <td>https://www.imdb.com/review/rw3577042/</td>\n",
       "      <td>As Planet Earth I was released about ten years...</td>\n",
       "      <td>negative</td>\n",
       "      <td>[planet, earth, released, ten, years, ago, vis...</td>\n",
       "      <td>planet earth released ten years ago visual imp...</td>\n",
       "    </tr>\n",
       "    <tr>\n",
       "      <th>1</th>\n",
       "      <td>Planet Earth</td>\n",
       "      <td>https://www.imdb.com/review/rw2014827/</td>\n",
       "      <td>I'm just laughing at all these negative commen...</td>\n",
       "      <td>positive</td>\n",
       "      <td>[laughing, negative, comments, know, hard, pet...</td>\n",
       "      <td>laughing negative comments know hard peta frea...</td>\n",
       "    </tr>\n",
       "    <tr>\n",
       "      <th>2</th>\n",
       "      <td>Planet Earth</td>\n",
       "      <td>https://www.imdb.com/review/rw1594404/</td>\n",
       "      <td>I don't think I can add anything to the previo...</td>\n",
       "      <td>negative</td>\n",
       "      <td>[think, add, anything, previous, 10, 10, comme...</td>\n",
       "      <td>think add anything previous 10 10 comments giv...</td>\n",
       "    </tr>\n",
       "    <tr>\n",
       "      <th>3</th>\n",
       "      <td>Band of Brothers</td>\n",
       "      <td>https://www.imdb.com/review/rw0625888/</td>\n",
       "      <td>\"Band of Brothers\" in a word is awesome. I cou...</td>\n",
       "      <td>positive</td>\n",
       "      <td>[band, brothers, word, awesome, wait, see, epi...</td>\n",
       "      <td>band brothers word awesome wait see episode co...</td>\n",
       "    </tr>\n",
       "    <tr>\n",
       "      <th>4</th>\n",
       "      <td>Band of Brothers</td>\n",
       "      <td>https://www.imdb.com/review/rw0626113/</td>\n",
       "      <td>I am an 80 year old combat veteran (88th Inf. ...</td>\n",
       "      <td>negative</td>\n",
       "      <td>[80, year, old, combat, veteran, 88th, inf, di...</td>\n",
       "      <td>80 year old combat veteran 88th inf div italy ...</td>\n",
       "    </tr>\n",
       "  </tbody>\n",
       "</table>\n",
       "</div>"
      ],
      "text/plain": [
       "              title                        user_review_link  \\\n",
       "0   Planet Earth II  https://www.imdb.com/review/rw3577042/   \n",
       "1      Planet Earth  https://www.imdb.com/review/rw2014827/   \n",
       "2      Planet Earth  https://www.imdb.com/review/rw1594404/   \n",
       "3  Band of Brothers  https://www.imdb.com/review/rw0625888/   \n",
       "4  Band of Brothers  https://www.imdb.com/review/rw0626113/   \n",
       "\n",
       "                                         user_review sentiment  \\\n",
       "0  As Planet Earth I was released about ten years...  negative   \n",
       "1  I'm just laughing at all these negative commen...  positive   \n",
       "2  I don't think I can add anything to the previo...  negative   \n",
       "3  \"Band of Brothers\" in a word is awesome. I cou...  positive   \n",
       "4  I am an 80 year old combat veteran (88th Inf. ...  negative   \n",
       "\n",
       "                                             chuncks  \\\n",
       "0  [planet, earth, released, ten, years, ago, vis...   \n",
       "1  [laughing, negative, comments, know, hard, pet...   \n",
       "2  [think, add, anything, previous, 10, 10, comme...   \n",
       "3  [band, brothers, word, awesome, wait, see, epi...   \n",
       "4  [80, year, old, combat, veteran, 88th, inf, di...   \n",
       "\n",
       "                                              newrev  \n",
       "0  planet earth released ten years ago visual imp...  \n",
       "1  laughing negative comments know hard peta frea...  \n",
       "2  think add anything previous 10 10 comments giv...  \n",
       "3  band brothers word awesome wait see episode co...  \n",
       "4  80 year old combat veteran 88th inf div italy ...  "
      ]
     },
     "execution_count": 22,
     "metadata": {},
     "output_type": "execute_result"
    }
   ],
   "source": [
    "revcsv.head()"
   ]
  },
  {
   "cell_type": "code",
   "execution_count": 25,
   "metadata": {},
   "outputs": [
    {
     "data": {
      "image/png": "[encoded data removed]",
      "text/plain": [
       "<Figure size 720x360 with 1 Axes>"
      ]
     },
     "metadata": {
      "needs_background": "light"
     },
     "output_type": "display_data"
    }
   ],
   "source": [
    "from sklearn.feature_extraction.text import CountVectorizer\n",
    "\n",
    "vectorizer = CountVectorizer()\n",
    "vect_texts = vectorizer.fit_transform(list(revcsv['newrev']))\n",
    "all_ngrams = vectorizer.get_feature_names()\n",
    "num_ngrams = min(50, len(all_ngrams))\n",
    "all_counts = vect_texts.sum(axis=0).tolist()[0]\n",
    "\n",
    "all_ngrams, all_counts = zip(*[(n, c) for c, n in sorted(zip(all_counts, all_ngrams), reverse=True)])\n",
    "ngrams = all_ngrams[:num_ngrams]\n",
    "counts = all_counts[:num_ngrams]\n",
    "\n",
    "idx = np.arange(num_ngrams)\n",
    "\n",
    "\n",
    "plt.figure(figsize=(10, 5))\n",
    "plt.bar(idx, counts, width=0.8)\n",
    "plt.xlabel('Word')\n",
    "plt.ylabel('Frequency')\n",
    "plt.title('Frequency distribution of words')\n",
    "plt.xticks(idx, ngrams, rotation=90)\n",
    "plt.show()"
   ]
  },
  {
   "cell_type": "code",
   "execution_count": 26,
   "metadata": {},
   "outputs": [
    {
     "data": {
      "text/html": [
       "<div>\n",
       "<style scoped>\n",
       "    .dataframe tbody tr th:only-of-type {\n",
       "        vertical-align: middle;\n",
       "    }\n",
       "\n",
       "    .dataframe tbody tr th {\n",
       "        vertical-align: top;\n",
       "    }\n",
       "\n",
       "    .dataframe thead th {\n",
       "        text-align: right;\n",
       "    }\n",
       "</style>\n",
       "<table border=\"1\" class=\"dataframe\">\n",
       "  <thead>\n",
       "    <tr style=\"text-align: right;\">\n",
       "      <th></th>\n",
       "      <th>title</th>\n",
       "      <th>user_review_link</th>\n",
       "      <th>user_review</th>\n",
       "      <th>sentiment</th>\n",
       "      <th>chuncks</th>\n",
       "      <th>newrev</th>\n",
       "    </tr>\n",
       "  </thead>\n",
       "  <tbody>\n",
       "    <tr>\n",
       "      <th>0</th>\n",
       "      <td>Planet Earth II</td>\n",
       "      <td>https://www.imdb.com/review/rw3577042/</td>\n",
       "      <td>As Planet Earth I was released about ten years...</td>\n",
       "      <td>negative</td>\n",
       "      <td>[planet, earth, released, ten, years, ago, vis...</td>\n",
       "      <td>planet earth released ten years ago visual imp...</td>\n",
       "    </tr>\n",
       "    <tr>\n",
       "      <th>1</th>\n",
       "      <td>Planet Earth</td>\n",
       "      <td>https://www.imdb.com/review/rw2014827/</td>\n",
       "      <td>I'm just laughing at all these negative commen...</td>\n",
       "      <td>positive</td>\n",
       "      <td>[laughing, negative, comments, know, hard, pet...</td>\n",
       "      <td>laughing negative comments know hard peta frea...</td>\n",
       "    </tr>\n",
       "    <tr>\n",
       "      <th>2</th>\n",
       "      <td>Planet Earth</td>\n",
       "      <td>https://www.imdb.com/review/rw1594404/</td>\n",
       "      <td>I don't think I can add anything to the previo...</td>\n",
       "      <td>negative</td>\n",
       "      <td>[think, add, anything, previous, 10, 10, comme...</td>\n",
       "      <td>think add anything previous 10 10 comments giv...</td>\n",
       "    </tr>\n",
       "    <tr>\n",
       "      <th>3</th>\n",
       "      <td>Band of Brothers</td>\n",
       "      <td>https://www.imdb.com/review/rw0625888/</td>\n",
       "      <td>\"Band of Brothers\" in a word is awesome. I cou...</td>\n",
       "      <td>positive</td>\n",
       "      <td>[band, brothers, word, awesome, wait, see, epi...</td>\n",
       "      <td>band brothers word awesome wait see episode co...</td>\n",
       "    </tr>\n",
       "    <tr>\n",
       "      <th>4</th>\n",
       "      <td>Band of Brothers</td>\n",
       "      <td>https://www.imdb.com/review/rw0626113/</td>\n",
       "      <td>I am an 80 year old combat veteran (88th Inf. ...</td>\n",
       "      <td>negative</td>\n",
       "      <td>[80, year, old, combat, veteran, 88th, inf, di...</td>\n",
       "      <td>80 year old combat veteran 88th inf div italy ...</td>\n",
       "    </tr>\n",
       "  </tbody>\n",
       "</table>\n",
       "</div>"
      ],
      "text/plain": [
       "              title                        user_review_link  \\\n",
       "0   Planet Earth II  https://www.imdb.com/review/rw3577042/   \n",
       "1      Planet Earth  https://www.imdb.com/review/rw2014827/   \n",
       "2      Planet Earth  https://www.imdb.com/review/rw1594404/   \n",
       "3  Band of Brothers  https://www.imdb.com/review/rw0625888/   \n",
       "4  Band of Brothers  https://www.imdb.com/review/rw0626113/   \n",
       "\n",
       "                                         user_review sentiment  \\\n",
       "0  As Planet Earth I was released about ten years...  negative   \n",
       "1  I'm just laughing at all these negative commen...  positive   \n",
       "2  I don't think I can add anything to the previo...  negative   \n",
       "3  \"Band of Brothers\" in a word is awesome. I cou...  positive   \n",
       "4  I am an 80 year old combat veteran (88th Inf. ...  negative   \n",
       "\n",
       "                                             chuncks  \\\n",
       "0  [planet, earth, released, ten, years, ago, vis...   \n",
       "1  [laughing, negative, comments, know, hard, pet...   \n",
       "2  [think, add, anything, previous, 10, 10, comme...   \n",
       "3  [band, brothers, word, awesome, wait, see, epi...   \n",
       "4  [80, year, old, combat, veteran, 88th, inf, di...   \n",
       "\n",
       "                                              newrev  \n",
       "0  planet earth released ten years ago visual imp...  \n",
       "1  laughing negative comments know hard peta frea...  \n",
       "2  think add anything previous 10 10 comments giv...  \n",
       "3  band brothers word awesome wait see episode co...  \n",
       "4  80 year old combat veteran 88th inf div italy ...  "
      ]
     },
     "execution_count": 26,
     "metadata": {},
     "output_type": "execute_result"
    }
   ],
   "source": [
    "df = revcsv\n",
    "df.head()"
   ]
  },
  {
   "cell_type": "code",
   "execution_count": 27,
   "metadata": {},
   "outputs": [],
   "source": [
    "df['sentiment'] = np.array(list(map(lambda x: 1 if x == 'positive' else 0,df['sentiment'])))"
   ]
  },
  {
   "cell_type": "code",
   "execution_count": 28,
   "metadata": {},
   "outputs": [
    {
     "data": {
      "text/html": [
       "<div>\n",
       "<style scoped>\n",
       "    .dataframe tbody tr th:only-of-type {\n",
       "        vertical-align: middle;\n",
       "    }\n",
       "\n",
       "    .dataframe tbody tr th {\n",
       "        vertical-align: top;\n",
       "    }\n",
       "\n",
       "    .dataframe thead th {\n",
       "        text-align: right;\n",
       "    }\n",
       "</style>\n",
       "<table border=\"1\" class=\"dataframe\">\n",
       "  <thead>\n",
       "    <tr style=\"text-align: right;\">\n",
       "      <th></th>\n",
       "      <th>title</th>\n",
       "      <th>user_review_link</th>\n",
       "      <th>user_review</th>\n",
       "      <th>sentiment</th>\n",
       "      <th>chuncks</th>\n",
       "      <th>newrev</th>\n",
       "    </tr>\n",
       "  </thead>\n",
       "  <tbody>\n",
       "    <tr>\n",
       "      <th>0</th>\n",
       "      <td>Planet Earth II</td>\n",
       "      <td>https://www.imdb.com/review/rw3577042/</td>\n",
       "      <td>As Planet Earth I was released about ten years...</td>\n",
       "      <td>0</td>\n",
       "      <td>[planet, earth, released, ten, years, ago, vis...</td>\n",
       "      <td>planet earth released ten years ago visual imp...</td>\n",
       "    </tr>\n",
       "    <tr>\n",
       "      <th>1</th>\n",
       "      <td>Planet Earth</td>\n",
       "      <td>https://www.imdb.com/review/rw2014827/</td>\n",
       "      <td>I'm just laughing at all these negative commen...</td>\n",
       "      <td>1</td>\n",
       "      <td>[laughing, negative, comments, know, hard, pet...</td>\n",
       "      <td>laughing negative comments know hard peta frea...</td>\n",
       "    </tr>\n",
       "    <tr>\n",
       "      <th>2</th>\n",
       "      <td>Planet Earth</td>\n",
       "      <td>https://www.imdb.com/review/rw1594404/</td>\n",
       "      <td>I don't think I can add anything to the previo...</td>\n",
       "      <td>0</td>\n",
       "      <td>[think, add, anything, previous, 10, 10, comme...</td>\n",
       "      <td>think add anything previous 10 10 comments giv...</td>\n",
       "    </tr>\n",
       "    <tr>\n",
       "      <th>3</th>\n",
       "      <td>Band of Brothers</td>\n",
       "      <td>https://www.imdb.com/review/rw0625888/</td>\n",
       "      <td>\"Band of Brothers\" in a word is awesome. I cou...</td>\n",
       "      <td>1</td>\n",
       "      <td>[band, brothers, word, awesome, wait, see, epi...</td>\n",
       "      <td>band brothers word awesome wait see episode co...</td>\n",
       "    </tr>\n",
       "    <tr>\n",
       "      <th>4</th>\n",
       "      <td>Band of Brothers</td>\n",
       "      <td>https://www.imdb.com/review/rw0626113/</td>\n",
       "      <td>I am an 80 year old combat veteran (88th Inf. ...</td>\n",
       "      <td>0</td>\n",
       "      <td>[80, year, old, combat, veteran, 88th, inf, di...</td>\n",
       "      <td>80 year old combat veteran 88th inf div italy ...</td>\n",
       "    </tr>\n",
       "  </tbody>\n",
       "</table>\n",
       "</div>"
      ],
      "text/plain": [
       "              title                        user_review_link  \\\n",
       "0   Planet Earth II  https://www.imdb.com/review/rw3577042/   \n",
       "1      Planet Earth  https://www.imdb.com/review/rw2014827/   \n",
       "2      Planet Earth  https://www.imdb.com/review/rw1594404/   \n",
       "3  Band of Brothers  https://www.imdb.com/review/rw0625888/   \n",
       "4  Band of Brothers  https://www.imdb.com/review/rw0626113/   \n",
       "\n",
       "                                         user_review  sentiment  \\\n",
       "0  As Planet Earth I was released about ten years...          0   \n",
       "1  I'm just laughing at all these negative commen...          1   \n",
       "2  I don't think I can add anything to the previo...          0   \n",
       "3  \"Band of Brothers\" in a word is awesome. I cou...          1   \n",
       "4  I am an 80 year old combat veteran (88th Inf. ...          0   \n",
       "\n",
       "                                             chuncks  \\\n",
       "0  [planet, earth, released, ten, years, ago, vis...   \n",
       "1  [laughing, negative, comments, know, hard, pet...   \n",
       "2  [think, add, anything, previous, 10, 10, comme...   \n",
       "3  [band, brothers, word, awesome, wait, see, epi...   \n",
       "4  [80, year, old, combat, veteran, 88th, inf, di...   \n",
       "\n",
       "                                              newrev  \n",
       "0  planet earth released ten years ago visual imp...  \n",
       "1  laughing negative comments know hard peta frea...  \n",
       "2  think add anything previous 10 10 comments giv...  \n",
       "3  band brothers word awesome wait see episode co...  \n",
       "4  80 year old combat veteran 88th inf div italy ...  "
      ]
     },
     "execution_count": 28,
     "metadata": {},
     "output_type": "execute_result"
    }
   ],
   "source": [
    "df.head()"
   ]
  },
  {
   "cell_type": "code",
   "execution_count": 29,
   "metadata": {},
   "outputs": [],
   "source": [
    "from sklearn.feature_extraction.text import TfidfVectorizer\n",
    "from sklearn.feature_selection import SelectKBest\n",
    "from sklearn.feature_selection import f_classif"
   ]
  },
  {
   "cell_type": "code",
   "execution_count": 30,
   "metadata": {},
   "outputs": [
    {
     "name": "stderr",
     "output_type": "stream",
     "text": [
      "C:\\Users\\hp\\anaconda3\\lib\\site-packages\\sklearn\\feature_extraction\\text.py:1817: UserWarning: Only (<class 'numpy.float64'>, <class 'numpy.float32'>, <class 'numpy.float16'>) 'dtype' should be used. int32 'dtype' will be converted to np.float64.\n",
      "  UserWarning)\n"
     ]
    },
    {
     "name": "stdout",
     "output_type": "stream",
     "text": [
      "  (0, 176)\t0.13305454\n",
      "  (0, 286)\t0.13305454\n",
      "  (0, 429)\t0.09858641\n",
      "  (0, 564)\t0.17376019\n",
      "  (0, 868)\t0.13305454\n",
      "  (0, 871)\t0.13305454\n",
      "  (0, 900)\t0.1629258\n",
      "  (0, 905)\t0.112977\n",
      "  (0, 991)\t0.06070726\n",
      "  (1, 27)\t0.08770849\n",
      "  (1, 51)\t0.14462884\n",
      "  (1, 162)\t0.14462884\n",
      "  (1, 370)\t0.13990569\n",
      "  (1, 390)\t0.10094172\n",
      "  (1, 423)\t0.25334492\n",
      "  (1, 457)\t0.12194932\n",
      "  (1, 521)\t0.15786207\n",
      "  (1, 564)\t0.09821229\n",
      "  (1, 648)\t0.1504095\n",
      "  (1, 833)\t0.1504095\n",
      "  (2, 0)\t0.1958223\n",
      "  (2, 79)\t0.12909366\n",
      "  (2, 95)\t0.061501555\n",
      "  (2, 519)\t0.1342534\n",
      "  (2, 535)\t0.1342534\n",
      "  :\t:\n",
      "  (485, 582)\t0.22397274\n",
      "  (485, 980)\t0.17298517\n",
      "  (486, 80)\t0.14967422\n",
      "  (486, 103)\t0.12886296\n",
      "  (486, 110)\t0.14967422\n",
      "  (486, 115)\t0.13712735\n",
      "  (486, 282)\t0.11365816\n",
      "  (486, 285)\t0.10307731\n",
      "  (486, 381)\t0.11776133\n",
      "  (486, 475)\t0.1426082\n",
      "  (486, 498)\t0.11014333\n",
      "  (486, 753)\t0.042665076\n",
      "  (486, 917)\t0.14967422\n",
      "  (486, 952)\t0.067538194\n",
      "  (487, 149)\t0.049962357\n",
      "  (487, 272)\t0.10378972\n",
      "  (487, 279)\t0.078725\n",
      "  (487, 323)\t0.12204644\n",
      "  (487, 410)\t0.115017496\n",
      "  (487, 482)\t0.14888889\n",
      "  (487, 694)\t0.12204644\n",
      "  (487, 788)\t0.13640787\n",
      "  (487, 797)\t0.082185954\n",
      "  (487, 905)\t0.060226843\n",
      "  (487, 952)\t0.06718382\n"
     ]
    }
   ],
   "source": [
    "def ngram_vectorize(texts, labels):\n",
    "    kwargs = {\n",
    "        'ngram_range' : (1,2),\n",
    "        'dtype' : 'int32',\n",
    "        'strip_accents' : 'unicode',\n",
    "        'decode_error' : 'replace',\n",
    "        'analyzer' : 'word',\n",
    "        'min_df' : 2,\n",
    "    }\n",
    "  \n",
    "    tfidf_vectorizer = TfidfVectorizer(**kwargs)\n",
    "    transformed_texts = tfidf_vectorizer.fit_transform(texts)\n",
    "       \n",
    "    selector = SelectKBest(f_classif, k=min(1000, transformed_texts.shape[1]))\n",
    "    selector.fit(transformed_texts, labels)\n",
    "    transformed_texts = selector.transform(transformed_texts).astype('float32')\n",
    "    return transformed_texts\n",
    "vect_data = ngram_vectorize(df['newrev'], df['sentiment'])\n",
    "print(vect_data)"
   ]
  },
  {
   "cell_type": "code",
   "execution_count": 31,
   "metadata": {},
   "outputs": [
    {
     "data": {
      "text/plain": [
       "(488, 1000)"
      ]
     },
     "execution_count": 31,
     "metadata": {},
     "output_type": "execute_result"
    }
   ],
   "source": [
    "vect_data.shape"
   ]
  },
  {
   "cell_type": "code",
   "execution_count": 32,
   "metadata": {},
   "outputs": [
    {
     "data": {
      "text/plain": [
       "(488, 10879)"
      ]
     },
     "execution_count": 32,
     "metadata": {},
     "output_type": "execute_result"
    }
   ],
   "source": [
    "tfidf = TfidfVectorizer()\n",
    "tr_texts = tfidf.fit_transform(df['newrev'])\n",
    "tr_texts.shape"
   ]
  },
  {
   "cell_type": "code",
   "execution_count": 33,
   "metadata": {},
   "outputs": [],
   "source": [
    "X = vect_data.toarray()\n",
    "y = (np.array(df['sentiment']))"
   ]
  },
  {
   "cell_type": "code",
   "execution_count": 35,
   "metadata": {},
   "outputs": [],
   "source": [
    "from sklearn.model_selection import train_test_split\n",
    "X_train, X_test, y_train, y_test = train_test_split(X, y, test_size=0.2, random_state=13)"
   ]
  },
  {
   "cell_type": "code",
   "execution_count": 36,
   "metadata": {},
   "outputs": [
    {
     "name": "stdout",
     "output_type": "stream",
     "text": [
      "trdata shape(390, 1000)\n",
      "tstdata shape(98, 1000)\n"
     ]
    }
   ],
   "source": [
    "print ('trdata shape'+ str(X_train.shape))\n",
    "print ('tstdata shape'+ str(X_test.shape))"
   ]
  },
  {
   "cell_type": "code",
   "execution_count": 37,
   "metadata": {},
   "outputs": [],
   "source": [
    "from tensorflow import keras\n",
    "from tensorflow.python.keras import models\n",
    "from tensorflow.python.keras.layers import Dense\n",
    "from tensorflow.python.keras.layers import Dropout\n",
    "from keras.callbacks import EarlyStopping"
   ]
  },
  {
   "cell_type": "code",
   "execution_count": 38,
   "metadata": {},
   "outputs": [
    {
     "name": "stdout",
     "output_type": "stream",
     "text": [
      "Model: \"sequential\"\n",
      "_________________________________________________________________\n",
      "Layer (type)                 Output Shape              Param #   \n",
      "=================================================================\n",
      "dropout (Dropout)            (None, 1000)              0         \n",
      "_________________________________________________________________\n",
      "dense (Dense)                (None, 100)               100100    \n",
      "_________________________________________________________________\n",
      "dropout_1 (Dropout)          (None, 100)               0         \n",
      "_________________________________________________________________\n",
      "dense_1 (Dense)              (None, 1)                 101       \n",
      "=================================================================\n",
      "Total params: 100,201\n",
      "Trainable params: 100,201\n",
      "Non-trainable params: 0\n",
      "_________________________________________________________________\n"
     ]
    }
   ],
   "source": [
    "model = keras.Sequential()\n",
    "model.add(Dropout(rate=0.2, input_shape=X_train.shape[1:]))\n",
    "model.add(Dense(units=100, activation='relu'))\n",
    "model.add(Dropout(rate=0.2))   \n",
    "model.add(Dense(units=1, activation='sigmoid'))\n",
    "model.summary()"
   ]
  },
  {
   "cell_type": "code",
   "execution_count": 39,
   "metadata": {},
   "outputs": [],
   "source": [
    "model.compile(optimizer='adam', loss='binary_crossentropy', metrics=['accuracy'])"
   ]
  },
  {
   "cell_type": "code",
   "execution_count": 40,
   "metadata": {},
   "outputs": [
    {
     "name": "stdout",
     "output_type": "stream",
     "text": [
      "Epoch 1/10\n",
      "9/9 [==============================] - 4s 108ms/step - loss: 0.6930 - accuracy: 0.5391 - val_loss: 0.6912 - val_accuracy: 0.6752\n",
      "Epoch 2/10\n",
      "9/9 [==============================] - 0s 12ms/step - loss: 0.6870 - accuracy: 0.7845 - val_loss: 0.6879 - val_accuracy: 0.7778\n",
      "Epoch 3/10\n",
      "9/9 [==============================] - 0s 12ms/step - loss: 0.6796 - accuracy: 0.8768 - val_loss: 0.6835 - val_accuracy: 0.8462\n",
      "Epoch 4/10\n",
      "9/9 [==============================] - 0s 14ms/step - loss: 0.6706 - accuracy: 0.9442 - val_loss: 0.6769 - val_accuracy: 0.8547\n",
      "Epoch 5/10\n",
      "9/9 [==============================] - 0s 13ms/step - loss: 0.6592 - accuracy: 0.9346 - val_loss: 0.6678 - val_accuracy: 0.8632\n",
      "Epoch 6/10\n",
      "9/9 [==============================] - 0s 13ms/step - loss: 0.6437 - accuracy: 0.9596 - val_loss: 0.6556 - val_accuracy: 0.8803\n",
      "Epoch 7/10\n",
      "9/9 [==============================] - 0s 11ms/step - loss: 0.6245 - accuracy: 0.9704 - val_loss: 0.6407 - val_accuracy: 0.9060\n",
      "Epoch 8/10\n",
      "9/9 [==============================] - 0s 12ms/step - loss: 0.6003 - accuracy: 0.9460 - val_loss: 0.6235 - val_accuracy: 0.9060\n",
      "Epoch 9/10\n",
      "9/9 [==============================] - 0s 11ms/step - loss: 0.5727 - accuracy: 0.9684 - val_loss: 0.6039 - val_accuracy: 0.9145\n",
      "Epoch 10/10\n",
      "9/9 [==============================] - 0s 12ms/step - loss: 0.5434 - accuracy: 0.9866 - val_loss: 0.5834 - val_accuracy: 0.9060\n"
     ]
    }
   ],
   "source": [
    "Early_Stoping_Monitor = EarlyStopping( patience=2)\n",
    "history = model.fit(X_train, y_train, epochs=10, validation_data=(X_test, y_test),validation_split=0.3, callbacks=Early_Stoping_Monitor)"
   ]
  },
  {
   "cell_type": "code",
   "execution_count": 41,
   "metadata": {},
   "outputs": [
    {
     "name": "stdout",
     "output_type": "stream",
     "text": [
      "4/4 [==============================] - 0s 3ms/step - loss: 0.5958 - accuracy: 0.8980\n",
      "Test loss: 0.5958171486854553\n",
      "Test accuracy: 0.8979591727256775\n"
     ]
    }
   ],
   "source": [
    "test_loss, test_acc = model.evaluate(X_test, y_test, verbose=1)\n",
    "print('Test loss:', test_loss)\n",
    "print('Test accuracy:', test_acc)"
   ]
  },
  {
   "cell_type": "code",
   "execution_count": 45,
   "metadata": {},
   "outputs": [
    {
     "data": {
      "image/png": "[encoded data removed]",
      "text/plain": [
       "<Figure size 432x288 with 1 Axes>"
      ]
     },
     "metadata": {},
     "output_type": "display_data"
    },
    {
     "data": {
      "image/png": "[encoded data removed]",
      "text/plain": [
       "<Figure size 432x288 with 1 Axes>"
      ]
     },
     "metadata": {},
     "output_type": "display_data"
    }
   ],
   "source": [
    "def plot_history(history):\n",
    "    accuracy = history.history['accuracy']\n",
    "    val_accuracy = history.history['val_accuracy']\n",
    "    loss = history.history['loss']\n",
    "    val_loss = history.history['val_loss']\n",
    "    \n",
    "    epochs = range(1,len(accuracy) + 1)\n",
    "     \n",
    "    plt.figure(1)\n",
    "    plt.plot(epochs, accuracy, 'r', label='Train')\n",
    "    plt.plot(epochs, val_accuracy, 'g', label='Test')\n",
    "    plt.title('Model Accuracy')\n",
    "    plt.xlabel('Epochs')\n",
    "    plt.ylabel('Accuracy')\n",
    "    plt.legend()\n",
    "    \n",
    "    plt.figure(2)\n",
    "    plt.plot(epochs, loss, 'r', label='Train')\n",
    "    plt.plot(epochs, val_loss, 'g', label='Test')\n",
    "    plt.title('Model Loss')\n",
    "    plt.xlabel('Epochs')\n",
    "    plt.ylabel('Loss')\n",
    "    plt.legend()\n",
    "    plt.show()\n",
    "\n",
    "plot_history(history)"
   ]
  }
 ],
 "metadata": {
  "kernelspec": {
   "display_name": "Python 3",
   "language": "python",
   "name": "python3"
  },
  "language_info": {
   "codemirror_mode": {
    "name": "ipython",
    "version": 3
   },
   "file_extension": ".py",
   "mimetype": "text/x-python",
   "name": "python",
   "nbconvert_exporter": "python",
   "pygments_lexer": "ipython3",
   "version": "3.7.6"
  }
 },
 "nbformat": 4,
 "nbformat_minor": 4
}
